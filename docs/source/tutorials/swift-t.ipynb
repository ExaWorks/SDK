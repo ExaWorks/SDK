{
 "cells": [
  {
   "cell_type": "markdown",
   "id": "21938011",
   "metadata": {},
   "source": [
    "# Swift/T Getting Started Tutorial"
   ]
  },
  {
   "cell_type": "code",
   "execution_count": null,
   "id": "82a3570e",
   "metadata": {},
   "outputs": [],
   "source": [
    "# Placeholder"
   ]
  }
 ],
 "metadata": {
  "kernelspec": {
   "display_name": "Python 3 (ipykernel)",
   "language": "python",
   "name": "python3"
  },
  "language_info": {
   "codemirror_mode": {
    "name": "ipython",
    "version": 3
   },
   "file_extension": ".py",
   "mimetype": "text/x-python",
   "name": "python",
   "nbconvert_exporter": "python",
   "pygments_lexer": "ipython3",
   "version": "3.11.1"
  }
 },
 "nbformat": 4,
 "nbformat_minor": 5
}
