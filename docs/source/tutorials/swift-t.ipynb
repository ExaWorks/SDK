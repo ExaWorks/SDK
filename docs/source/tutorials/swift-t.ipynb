{
 "cells": [
  {
   "cell_type": "markdown",
   "id": "21938011",
   "metadata": {},
   "source": [
    "# Swift/T Getting Started Tutorial"
   ]
  },
  {
   "cell_type": "code",
   "execution_count": null,
   "id": "3193989e",
   "metadata": {},
   "outputs": [],
   "source": [
    "import os\n",
    "from tempfile import mkdtemp\n",
    "\n",
    "os.makedirs('./userdirs', exist_ok=True)\n",
    "workdir = mkdtemp(prefix='userdir-', dir='./userdirs')\n",
    "os.chdir(workdir)\n",
    "print(workdir)"
   ]
  },
  {
   "cell_type": "code",
   "execution_count": null,
   "id": "79e94810",
   "metadata": {},
   "outputs": [],
   "source": [
    "# ! wget http://swift-lang.github.io/swift-t-downloads/1.3/swift-t-debs-1.3.tar.gz\n",
    "# ! tar xfz swift-t-debs-1.3.tar.gz\n",
    "# ! ./swift-t-debs/install-debs.sh"
   ]
  },
  {
   "cell_type": "code",
   "execution_count": null,
   "id": "744a34ff",
   "metadata": {},
   "outputs": [],
   "source": [
    "! git clone -b main --single-branch https://github.com/ExaWorks/Tutorial.git ./sdk-examples"
   ]
  },
  {
   "cell_type": "code",
   "execution_count": null,
   "id": "82a3570e",
   "metadata": {},
   "outputs": [],
   "source": [
    "def swift_t(code):\n",
    "    import subprocess\n",
    "    subprocess.run([\"swift-t\", \"-E\", code])"
   ]
  },
  {
   "cell_type": "code",
   "execution_count": null,
   "id": "2f0c3530",
   "metadata": {},
   "outputs": [],
   "source": [
    "swift_t(\"trace(42);\")"
   ]
  },
  {
   "cell_type": "code",
   "execution_count": null,
   "id": "ced35680",
   "metadata": {},
   "outputs": [],
   "source": [
    "def swift_t_file(directory, filename):\n",
    "    import os, subprocess\n",
    "    original = os.getcwd()\n",
    "    os.chdir(directory)\n",
    "    try:\n",
    "        subprocess.run([\"swift-t\", filename])\n",
    "    except:\n",
    "        pass\n",
    "    os.chdir(original)"
   ]
  },
  {
   "cell_type": "code",
   "execution_count": null,
   "id": "79709bcd",
   "metadata": {},
   "outputs": [],
   "source": [
    "swift_t_file(\"sdk-examples/2-workflow-dl-swift/01-hello\", \"hello.swift\")"
   ]
  },
  {
   "cell_type": "code",
   "execution_count": null,
   "id": "24798e1a",
   "metadata": {},
   "outputs": [],
   "source": [
    "swift_t_file(\"sdk-examples/2-workflow-dl-swift/02-loop\", \"loop.swift\")"
   ]
  }
 ],
 "metadata": {
  "kernelspec": {
   "display_name": "Python 3 (ipykernel)",
   "language": "python",
   "name": "python3"
  },
  "language_info": {
   "codemirror_mode": {
    "name": "ipython",
    "version": 3
   },
   "file_extension": ".py",
   "mimetype": "text/x-python",
   "name": "python",
   "nbconvert_exporter": "python",
   "pygments_lexer": "ipython3",
   "version": "3.9.16"
  }
 },
 "nbformat": 4,
 "nbformat_minor": 5
}
