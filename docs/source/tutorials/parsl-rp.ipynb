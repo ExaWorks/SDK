{
 "cells": [
  {
   "cell_type": "markdown",
   "id": "6de66e16",
   "metadata": {},
   "source": [
    "### Parsl-RADICAL-Pilot Integration.\n",
    "\n",
    "RADICAL-Pilot (RP) is a runtime system that enables the execution of heterogeneous (funtions and executables) MPI workloads on heterogeneous (GPUs and CPUs) HPC resources. The integration of Parsl and RP allows RP to benefit from Parsl flexible programming model and its workflow management capabilities to build dynamic workflows. Additionally, RadicalPilotExecutor benefits Parsl by offering the heterogeneous runtime capabilities of RP to support many MPI computations more efficiently."
   ]
  },
  {
   "cell_type": "markdown",
   "id": "4a1580ee",
   "metadata": {},
   "source": [
    "For this tutorial we are required to update the existing default Parsl package with Parsl that has the integration files (Parsl-RP integration will be relased in Parsl soon)."
   ]
  },
  {
   "cell_type": "code",
   "execution_count": null,
   "id": "ba1877d8",
   "metadata": {
    "ExecuteTime": {
     "end_time": "2022-11-22T12:17:48.357841Z",
     "start_time": "2022-11-22T12:17:47.458237Z"
    }
   },
   "outputs": [],
   "source": [
    "%%capture capt\n",
    "\n",
    "# remove the exisitng Parsl from conda\n",
    "!conda remove --force parsl -y\n",
    "\n",
    "# install a specific Parsl version\n",
    "!pip install git+https://github.com/AymenFJA/parsl.git@master"
   ]
  },
  {
   "cell_type": "markdown",
   "id": "a98b8cb5",
   "metadata": {},
   "source": [
    "Next we need to locate the installed `nwchem` executable in our environment"
   ]
  },
  {
   "cell_type": "code",
   "execution_count": null,
   "id": "84004f91",
   "metadata": {},
   "outputs": [],
   "source": [
    "# locate the NWChem executable path\n",
    "nwchem_path = !which nwchem\n",
    "nwchem      = nwchem_path[0]"
   ]
  },
  {
   "cell_type": "markdown",
   "id": "240f65de",
   "metadata": {},
   "source": [
    "Gather the MongoDB server information and set the `RADICAL_PILOT_DBURL` environment variable."
   ]
  },
  {
   "cell_type": "code",
   "execution_count": 2,
   "id": "53195bcc",
   "metadata": {
    "ExecuteTime": {
     "end_time": "2022-11-22T12:17:52.430749Z",
     "start_time": "2022-11-22T12:17:52.422540Z"
    }
   },
   "outputs": [],
   "source": [
    "%%capture capt\n",
    "\n",
    "import os\n",
    "\n",
    "mdb_host = os.environ.get('MDB_SERVER', 'mongodb')\n",
    "mdb_port = os.environ.get('MDB_PORT',   '27017')\n",
    "mdb_name = os.environ.get('MDB_NAME',   'guest')\n",
    "mdb_pswd = os.environ.get('MDB_PSWD',   'guest')\n",
    "mdb_dtbs = os.environ.get('MDB_DTBS',   'default')\n",
    "\n",
    "%env RADICAL_PILOT_DBURL=mongodb://$mdb_name:$mdb_pswd@$mdb_host:$mdb_port/$mdb_dtbs"
   ]
  },
  {
   "cell_type": "markdown",
   "id": "bbf6a6d1",
   "metadata": {},
   "source": [
    "# MPI NWChem Example:\n",
    "\n",
    "The following example application shows the execution of MP2 geometry optimization followed by a CCSD(T) energy evaluation at the converged geometry. A Dunning correlation-consistent triple-zeta basis is used. The default of Cartesian basis functions must be overridden using the keyword spherical on the BASIS directive. The 1s core orbitals are frozen in both the MP2 and coupled-cluster calculations (note that these must separately specified)."
   ]
  },
  {
   "attachments": {},
   "cell_type": "markdown",
   "id": "52f78a41",
   "metadata": {},
   "source": [
    "First, we need to write the `NWChem` example to a file so that we can use it as an input for the `NWChem` executable."
   ]
  },
  {
   "cell_type": "code",
   "execution_count": null,
   "id": "6980a500",
   "metadata": {},
   "outputs": [],
   "source": [
    "input = \"\"\"\n",
    "start n2\n",
    "\n",
    "geometry\n",
    "  symmetry d2h\n",
    "  n 0 0 0.542\n",
    "end\n",
    "\n",
    "basis spherical\n",
    "  n library cc-pvtz\n",
    "end\n",
    "\n",
    "mp2\n",
    "  freeze core\n",
    "end\n",
    "\n",
    "task mp2 optimize\n",
    "\n",
    "ccsd\n",
    "  freeze core\n",
    "end\n",
    "\n",
    "task ccsd(t)\n",
    "\"\"\"\n",
    "nwchem_input = '{0}/{1}'.format(os.getcwd(), 'mp2_optimization.nw')\n",
    "with open(nwchem_input,\"w+\") as f:\n",
    "    f.writelines(input)"
   ]
  },
  {
   "attachments": {},
   "cell_type": "markdown",
   "id": "39d40bda",
   "metadata": {},
   "source": [
    "Now, we import the Parsl and RP Python modules in our application, alongside the RadicalPilotExecutor (RPEX) from Parsl"
   ]
  },
  {
   "cell_type": "code",
   "execution_count": 3,
   "id": "77692350",
   "metadata": {
    "ExecuteTime": {
     "end_time": "2022-11-22T12:17:57.635805Z",
     "start_time": "2022-11-22T12:17:57.340827Z"
    }
   },
   "outputs": [],
   "source": [
    "import parsl\n",
    "import radical.pilot as rp\n",
    "\n",
    "from parsl.config import Config\n",
    "from parsl.executors import RadicalPilotExecutor"
   ]
  },
  {
   "attachments": {},
   "cell_type": "markdown",
   "id": "1290100d",
   "metadata": {},
   "source": [
    "RadicalPilotExecutor is capable of executing both functions and executables concurrently. The functions execution layer is based on the manager-worker (leader-follower) paradigm. The managers are responsible for managing a set of workers and can execute function tasks as well. In contrast, the workers are only responsible for the function tasks execution. The manager-worker paradigm requires a set of input parameters for resource distribution, such as:\n",
    "1. Number of managers and workers per node\n",
    "2. Number of ranks per manager and worker.\n",
    "3. Number of nodes per manager and worker.\n",
    "\n",
    "In order to specify this information, we create a configuration file `rpex.cfg` that describes these parameters and pass it to RadicalPilotExecutor. In the cell below, we ask RadicalPilotExecutor to allocate 4 cores for all tasks."
   ]
  },
  {
   "cell_type": "code",
   "execution_count": null,
   "id": "fde1d4f1",
   "metadata": {},
   "outputs": [],
   "source": [
    "# we ask Parsl to start the executor locally with 4 cores\n",
    "rpex_cfg = 'rpex.cfg'\n",
    "config = Config(\n",
    "    executors=[RadicalPilotExecutor(\n",
    "        rpex_cfg=rpex_cfg, bulk_mode=True,\n",
    "        resource='local.localhost', login_method = 'local',\n",
    "        walltime=30, managed= True, cores= 4\n",
    "    )])\n",
    "\n",
    "parsl.load(config)"
   ]
  },
  {
   "attachments": {},
   "cell_type": "markdown",
   "id": "6a6f2135",
   "metadata": {},
   "source": [
    "Create a simple Parsl `@bash_app` to invoke the `NWChem` task. The `bash_app` requires the type of the task and the number of `cpu_processes` on which to run. In this case, the type of the task is `MPI`, and the number of `cpu_processes` is 2 `MPI` ranks, where each rank takes 1 core.\n",
    "\n",
    "Once the `bash_app` (executable task) is invoked, the RadicalPilotExecutor submits the task to the runtime system and waits for it. RadicalPilotExecutor creates a designated `sandbox` folder that contains the tasks and their `stdout/stderr` files that contain after-execution task output or errors. "
   ]
  },
  {
   "cell_type": "code",
   "execution_count": null,
   "id": "ad3e90a9",
   "metadata": {},
   "outputs": [],
   "source": [
    "@parsl.bash_app\n",
    "def nwchem_mp2_optimization(cpu_processes=2, cpu_process_type=rp.MPI):\n",
    "\n",
    "    return \"{0} {1}\".format(nwchem, nwchem_input)\n",
    "\n",
    "# invoke the nwchem_mp2_optimization\n",
    "future  = nwchem_mp2_optimization()\n",
    "\n",
    "# wait for the results of the NWChem task.\n",
    "if future.result() == 0:\n",
    "    print('Parsl task {0} finished'.format(future.tid))\n",
    "    \n",
    "    # rp has a different task id than Parsl (task.id)\n",
    "    task_id  = str(future.tid).zfill(6)\n",
    "\n",
    "    # RP tasks output located in the sandbox folder\n",
    "    task_path = '{0}/radical.pilot.sandbox/{1}/pilot.0000/task.{2}/task.{2}.out'.format(os.path.expanduser(\"~\"),\n",
    "                                                                                        config.executors[0].session.uid, task_id)"
   ]
  },
  {
   "attachments": {},
   "cell_type": "markdown",
   "id": "34d6ebb7",
   "metadata": {},
   "source": [
    "print task output from the task file"
   ]
  },
  {
   "cell_type": "code",
   "execution_count": null,
   "id": "fa510510",
   "metadata": {},
   "outputs": [],
   "source": [
    "task_out = open(task_path, \"r\").readlines()\n",
    "print(''.join(task_out))"
   ]
  },
  {
   "attachments": {},
   "cell_type": "markdown",
   "id": "e198583e",
   "metadata": {},
   "source": [
    "Finally, shutdown the executor, otherwise it will always stays ready to get more tasks"
   ]
  },
  {
   "cell_type": "code",
   "execution_count": null,
   "id": "e9851cb1",
   "metadata": {},
   "outputs": [],
   "source": [
    "config.executors[0].shutdown()"
   ]
  }
 ],
 "metadata": {
  "kernelspec": {
   "display_name": "Python 3 (ipykernel)",
   "language": "python",
   "name": "python3"
  },
  "language_info": {
   "codemirror_mode": {
    "name": "ipython",
    "version": 3
   },
   "file_extension": ".py",
   "mimetype": "text/x-python",
   "name": "python",
   "nbconvert_exporter": "python",
   "pygments_lexer": "ipython3",
   "version": "3.8.10"
  },
  "varInspector": {
   "cols": {
    "lenName": 16,
    "lenType": 16,
    "lenVar": 40
   },
   "kernels_config": {
    "python": {
     "delete_cmd_postfix": "",
     "delete_cmd_prefix": "del ",
     "library": "var_list.py",
     "varRefreshCmd": "print(var_dic_list())"
    },
    "r": {
     "delete_cmd_postfix": ") ",
     "delete_cmd_prefix": "rm(",
     "library": "var_list.r",
     "varRefreshCmd": "cat(var_dic_list()) "
    }
   },
   "types_to_exclude": [
    "module",
    "function",
    "builtin_function_or_method",
    "instance",
    "_Feature"
   ],
   "window_display": false
  }
 },
 "nbformat": 4,
 "nbformat_minor": 5
}
